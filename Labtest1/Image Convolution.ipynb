{
 "cells": [
  {
   "cell_type": "markdown",
   "id": "d1c47a89",
   "metadata": {},
   "source": [
    "\"\"\"\n",
    "\n",
    "1. Show what happens when we apply a binary mask on a grayscale image.\n",
    "2. Slice an 8-bit grayscale image into 8 planes.\n",
    "3. Show the effect of convolution of a grayscale image with a Laplacian filters and sobel filters.\n",
    "\n",
    "\"\"\""
   ]
  },
  {
   "cell_type": "code",
   "execution_count": 1,
   "id": "59624d4f",
   "metadata": {},
   "outputs": [],
   "source": [
    "import cv2\n",
    "import numpy as np\n",
    "import matplotlib.pyplot as plt\n",
    "from skimage.util import img_as_float"
   ]
  },
  {
   "cell_type": "code",
   "execution_count": 2,
   "id": "f08dab90",
   "metadata": {},
   "outputs": [],
   "source": [
    "def plt_img(img_set,img_title):\n",
    "    ch = len(img_set)\n",
    "    plt.figure(figsize=(20,20))\n",
    "    for i in range(ch):\n",
    "        plt.subplot(2,3,i+1)\n",
    "        ln = len(img_set[i].shape)\n",
    "        if ln == 3:\n",
    "            plt.imshow(img_set[i])\n",
    "        else:\n",
    "            plt.imshow(img_set[i],cmap='gray')\n",
    "        plt.title(img_title[i])\n",
    "    plt.show()"
   ]
  },
  {
   "cell_type": "code",
   "execution_count": 3,
   "id": "c46874ca",
   "metadata": {},
   "outputs": [],
   "source": [
    "def convolution(kernel,grayscale):\n",
    "    x, y = grayscale.shape\n",
    "    print(x,y)\n",
    "    kx,ky = kernel.shape\n",
    "    print(kx,ky)\n",
    "    r = x + kx - 1\n",
    "    c = y + ky - 1\n",
    "    padded_img = np.zeros((r,c),dtype=np.float32)\n",
    "    \n",
    "    \"\"\"Zero padding the origianl image\"\"\"\n",
    "    \n",
    "    for i in range(x):\n",
    "        for j in range(y):\n",
    "            padded_img[i+(kx-1)//2,j+(ky-1)//2] = grayscale[i,j]\n",
    "            \n",
    "    processed_img = np.zeros((x,y),dtype=np.float32)\n",
    "    for i in range(r):\n",
    "        for j in range(c): \n",
    "            for k in range(kx):     \n",
    "                for l in range(ky): \n",
    "                    if i < x and i >= 0 and j < y and j >= 0: \n",
    "                        processed_img[i,j] += kernel[k,l] * padded_img[i+k,j+l] \n",
    "                        if(processed_img[i,j]) >= 256:\n",
    "                            processed_img[i,j] = 255\n",
    "    return processed_img"
   ]
  },
  {
   "cell_type": "code",
   "execution_count": null,
   "id": "291fbe29",
   "metadata": {},
   "outputs": [],
   "source": []
  },
  {
   "cell_type": "code",
   "execution_count": null,
   "id": "6b66c2f1",
   "metadata": {},
   "outputs": [],
   "source": []
  },
  {
   "cell_type": "code",
   "execution_count": null,
   "id": "e9c32f12",
   "metadata": {},
   "outputs": [
    {
     "name": "stdout",
     "output_type": "stream",
     "text": [
      "(800, 800, 3)\n",
      "(800, 800)\n",
      "Laplacian Kernel : [[-1 -1 -1]\n",
      " [-1  8 -1]\n",
      " [-1 -1 -1]]\n",
      "Sobel Kernel : [[-1  0 -1]\n",
      " [-2  0 -2]\n",
      " [-1  0 -1]]\n",
      "800 800\n",
      "3 3\n"
     ]
    }
   ],
   "source": [
    "def main():\n",
    "\n",
    "    rgbImg = plt.imread('mri1.jpg')\n",
    "    print(rgbImg.shape)\n",
    "    \n",
    "    grayscale = cv2.cvtColor(rgbImg,cv2.COLOR_RGB2GRAY)\n",
    "    grayscale = img_as_float(grayscale)\n",
    "    print(grayscale.shape)\n",
    "    x,y = grayscale.shape\n",
    "    \n",
    "    LaplacianKernel = np.array([\n",
    "                                [-1,-1,-1],\n",
    "                                [-1,8,-1],\n",
    "                                [-1,-1,-1],\n",
    "                                ])\n",
    "    print(\"Laplacian Kernel : {}\".format(LaplacianKernel))\n",
    "    SobelKernel = np.array([\n",
    "                                [-1,0,-1],\n",
    "                                [-2,0,-2],\n",
    "                                [-1,0,-1],\n",
    "                                ])\n",
    "    \n",
    "    print(\"Sobel Kernel : {}\".format(SobelKernel))\n",
    "    \n",
    "    image1 = convolution(LaplacianKernel,grayscale)\n",
    "    image2 = cv2.filter2D(grayscale,-1,LaplacianKernel) \n",
    "    image3 = convolution(SobelKernel,grayscale)\n",
    "    image4 = cv2.filter2D(grayscale,-1,SobelKernel) \n",
    "    \n",
    "    img_set = [rgbImg,grayscale,image1,image2,image3,image4]\n",
    "    img_title = ['RGB','Grayscale','Laplacian Image-Manual','Laplacian Image-Built In','Sobel Image-Manual','Sobel Image-Built In']\n",
    "    \n",
    "    plt_img(img_set,img_title)\n",
    "    \n",
    "    \n",
    "if __name__ == '__main__':\n",
    "    main()"
   ]
  },
  {
   "cell_type": "code",
   "execution_count": null,
   "id": "2ff14ea2",
   "metadata": {},
   "outputs": [],
   "source": []
  }
 ],
 "metadata": {
  "kernelspec": {
   "display_name": "Python 3 (ipykernel)",
   "language": "python",
   "name": "python3"
  },
  "language_info": {
   "codemirror_mode": {
    "name": "ipython",
    "version": 3
   },
   "file_extension": ".py",
   "mimetype": "text/x-python",
   "name": "python",
   "nbconvert_exporter": "python",
   "pygments_lexer": "ipython3",
   "version": "3.10.4"
  }
 },
 "nbformat": 4,
 "nbformat_minor": 5
}
